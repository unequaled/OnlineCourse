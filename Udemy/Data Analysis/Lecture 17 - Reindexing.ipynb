{
 "cells": [
  {
   "cell_type": "code",
   "execution_count": 2,
   "metadata": {
    "collapsed": true
   },
   "outputs": [],
   "source": [
    "import numpy as np \n",
    "from pandas import Series, DataFrame\n",
    "\n",
    "import pandas as pd\n",
    "from numpy.random import randn"
   ]
  },
  {
   "cell_type": "code",
   "execution_count": 4,
   "metadata": {
    "collapsed": false
   },
   "outputs": [
    {
     "data": {
      "text/plain": [
       "A    1\n",
       "B    2\n",
       "C    3\n",
       "D    4\n",
       "dtype: int64"
      ]
     },
     "execution_count": 4,
     "metadata": {},
     "output_type": "execute_result"
    }
   ],
   "source": [
    "ser1 = Series([1,2,3,4],index= ['A','B','C','D'])\n",
    "ser1"
   ]
  },
  {
   "cell_type": "code",
   "execution_count": 5,
   "metadata": {
    "collapsed": false
   },
   "outputs": [
    {
     "data": {
      "text/plain": [
       "A     1\n",
       "B     2\n",
       "C     3\n",
       "D     4\n",
       "E   NaN\n",
       "F   NaN\n",
       "dtype: float64"
      ]
     },
     "execution_count": 5,
     "metadata": {},
     "output_type": "execute_result"
    }
   ],
   "source": [
    "ser2 = ser1.reindex(['A','B','C','D','E','F'])\n",
    "ser2"
   ]
  },
  {
   "cell_type": "code",
   "execution_count": 11,
   "metadata": {
    "collapsed": false
   },
   "outputs": [
    {
     "data": {
      "text/plain": [
       "A     1\n",
       "B     2\n",
       "C     3\n",
       "D     4\n",
       "E   NaN\n",
       "F   NaN\n",
       "G     0\n",
       "dtype: float64"
      ]
     },
     "execution_count": 11,
     "metadata": {},
     "output_type": "execute_result"
    }
   ],
   "source": [
    "ser2.reindex(['A','B','C','D','E','F','G'],fill_value = 0)"
   ]
  },
  {
   "cell_type": "code",
   "execution_count": 10,
   "metadata": {
    "collapsed": false
   },
   "outputs": [
    {
     "data": {
      "text/plain": [
       "A     1\n",
       "B     2\n",
       "C     3\n",
       "D     4\n",
       "E   NaN\n",
       "F   NaN\n",
       "dtype: float64"
      ]
     },
     "execution_count": 10,
     "metadata": {},
     "output_type": "execute_result"
    }
   ],
   "source": [
    "ser2 # no change for ser2"
   ]
  },
  {
   "cell_type": "code",
   "execution_count": 14,
   "metadata": {
    "collapsed": false
   },
   "outputs": [
    {
     "data": {
      "text/plain": [
       "0        USA\n",
       "5     Mexico\n",
       "10    Canada\n",
       "dtype: object"
      ]
     },
     "execution_count": 14,
     "metadata": {},
     "output_type": "execute_result"
    }
   ],
   "source": [
    "ser3 = Series(['USA','Mexico','Canada'],index = [0,5,10])\n",
    "ser3"
   ]
  },
  {
   "cell_type": "code",
   "execution_count": 15,
   "metadata": {
    "collapsed": false
   },
   "outputs": [
    {
     "data": {
      "text/plain": [
       "[0, 1, 2, 3, 4, 5, 6, 7, 8, 9, 10, 11, 12, 13, 14]"
      ]
     },
     "execution_count": 15,
     "metadata": {},
     "output_type": "execute_result"
    }
   ],
   "source": [
    "ranger = range(15)\n",
    "ranger"
   ]
  },
  {
   "cell_type": "code",
   "execution_count": 16,
   "metadata": {
    "collapsed": false
   },
   "outputs": [
    {
     "data": {
      "text/plain": [
       "0        USA\n",
       "1        NaN\n",
       "2        NaN\n",
       "3        NaN\n",
       "4        NaN\n",
       "5     Mexico\n",
       "6        NaN\n",
       "7        NaN\n",
       "8        NaN\n",
       "9        NaN\n",
       "10    Canada\n",
       "11       NaN\n",
       "12       NaN\n",
       "13       NaN\n",
       "14       NaN\n",
       "dtype: object"
      ]
     },
     "execution_count": 16,
     "metadata": {},
     "output_type": "execute_result"
    }
   ],
   "source": [
    "ser3.reindex(ranger)"
   ]
  },
  {
   "cell_type": "code",
   "execution_count": 17,
   "metadata": {
    "collapsed": false
   },
   "outputs": [
    {
     "data": {
      "text/plain": [
       "0        USA\n",
       "1        USA\n",
       "2        USA\n",
       "3        USA\n",
       "4        USA\n",
       "5     Mexico\n",
       "6     Mexico\n",
       "7     Mexico\n",
       "8     Mexico\n",
       "9     Mexico\n",
       "10    Canada\n",
       "11    Canada\n",
       "12    Canada\n",
       "13    Canada\n",
       "14    Canada\n",
       "dtype: object"
      ]
     },
     "execution_count": 17,
     "metadata": {},
     "output_type": "execute_result"
    }
   ],
   "source": [
    "ser3.reindex(ranger,method='ffill')"
   ]
  },
  {
   "cell_type": "code",
   "execution_count": 19,
   "metadata": {
    "collapsed": false
   },
   "outputs": [
    {
     "data": {
      "text/html": [
       "<div style=\"max-height:1000px;max-width:1500px;overflow:auto;\">\n",
       "<table border=\"1\" class=\"dataframe\">\n",
       "  <thead>\n",
       "    <tr style=\"text-align: right;\">\n",
       "      <th></th>\n",
       "      <th>cal1</th>\n",
       "      <th>cal2</th>\n",
       "      <th>cal3</th>\n",
       "      <th>cal4</th>\n",
       "      <th>cal5</th>\n",
       "    </tr>\n",
       "  </thead>\n",
       "  <tbody>\n",
       "    <tr>\n",
       "      <th>A</th>\n",
       "      <td> 0.463644</td>\n",
       "      <td>-2.259173</td>\n",
       "      <td>-0.825330</td>\n",
       "      <td> 0.227703</td>\n",
       "      <td> 0.936149</td>\n",
       "    </tr>\n",
       "    <tr>\n",
       "      <th>B</th>\n",
       "      <td>-0.056193</td>\n",
       "      <td>-0.051107</td>\n",
       "      <td>-0.935115</td>\n",
       "      <td>-0.807525</td>\n",
       "      <td>-0.180707</td>\n",
       "    </tr>\n",
       "    <tr>\n",
       "      <th>D</th>\n",
       "      <td>-1.084751</td>\n",
       "      <td>-1.632557</td>\n",
       "      <td> 0.562906</td>\n",
       "      <td>-1.119908</td>\n",
       "      <td>-0.103443</td>\n",
       "    </tr>\n",
       "    <tr>\n",
       "      <th>E</th>\n",
       "      <td>-2.084308</td>\n",
       "      <td>-0.055141</td>\n",
       "      <td> 0.547448</td>\n",
       "      <td>-0.149421</td>\n",
       "      <td>-0.715821</td>\n",
       "    </tr>\n",
       "    <tr>\n",
       "      <th>F</th>\n",
       "      <td> 1.474124</td>\n",
       "      <td> 0.223796</td>\n",
       "      <td>-1.465784</td>\n",
       "      <td> 1.031706</td>\n",
       "      <td> 1.157569</td>\n",
       "    </tr>\n",
       "  </tbody>\n",
       "</table>\n",
       "</div>"
      ],
      "text/plain": [
       "       cal1      cal2      cal3      cal4      cal5\n",
       "A  0.463644 -2.259173 -0.825330  0.227703  0.936149\n",
       "B -0.056193 -0.051107 -0.935115 -0.807525 -0.180707\n",
       "D -1.084751 -1.632557  0.562906 -1.119908 -0.103443\n",
       "E -2.084308 -0.055141  0.547448 -0.149421 -0.715821\n",
       "F  1.474124  0.223796 -1.465784  1.031706  1.157569"
      ]
     },
     "execution_count": 19,
     "metadata": {},
     "output_type": "execute_result"
    }
   ],
   "source": [
    "dframe = DataFrame(randn(25).reshape((5,5)),index = ['A','B','D','E','F'], \n",
    "                   columns=['cal1','cal2','cal3','cal4','cal5'])\n",
    "dframe"
   ]
  },
  {
   "cell_type": "code",
   "execution_count": 21,
   "metadata": {
    "collapsed": false
   },
   "outputs": [
    {
     "data": {
      "text/html": [
       "<div style=\"max-height:1000px;max-width:1500px;overflow:auto;\">\n",
       "<table border=\"1\" class=\"dataframe\">\n",
       "  <thead>\n",
       "    <tr style=\"text-align: right;\">\n",
       "      <th></th>\n",
       "      <th>cal1</th>\n",
       "      <th>cal2</th>\n",
       "      <th>cal3</th>\n",
       "      <th>cal4</th>\n",
       "      <th>cal5</th>\n",
       "    </tr>\n",
       "  </thead>\n",
       "  <tbody>\n",
       "    <tr>\n",
       "      <th>A</th>\n",
       "      <td> 0.463644</td>\n",
       "      <td>-2.259173</td>\n",
       "      <td>-0.825330</td>\n",
       "      <td> 0.227703</td>\n",
       "      <td> 0.936149</td>\n",
       "    </tr>\n",
       "    <tr>\n",
       "      <th>B</th>\n",
       "      <td>-0.056193</td>\n",
       "      <td>-0.051107</td>\n",
       "      <td>-0.935115</td>\n",
       "      <td>-0.807525</td>\n",
       "      <td>-0.180707</td>\n",
       "    </tr>\n",
       "    <tr>\n",
       "      <th>C</th>\n",
       "      <td>      NaN</td>\n",
       "      <td>      NaN</td>\n",
       "      <td>      NaN</td>\n",
       "      <td>      NaN</td>\n",
       "      <td>      NaN</td>\n",
       "    </tr>\n",
       "    <tr>\n",
       "      <th>D</th>\n",
       "      <td>-1.084751</td>\n",
       "      <td>-1.632557</td>\n",
       "      <td> 0.562906</td>\n",
       "      <td>-1.119908</td>\n",
       "      <td>-0.103443</td>\n",
       "    </tr>\n",
       "    <tr>\n",
       "      <th>E</th>\n",
       "      <td>-2.084308</td>\n",
       "      <td>-0.055141</td>\n",
       "      <td> 0.547448</td>\n",
       "      <td>-0.149421</td>\n",
       "      <td>-0.715821</td>\n",
       "    </tr>\n",
       "    <tr>\n",
       "      <th>F</th>\n",
       "      <td> 1.474124</td>\n",
       "      <td> 0.223796</td>\n",
       "      <td>-1.465784</td>\n",
       "      <td> 1.031706</td>\n",
       "      <td> 1.157569</td>\n",
       "    </tr>\n",
       "  </tbody>\n",
       "</table>\n",
       "</div>"
      ],
      "text/plain": [
       "       cal1      cal2      cal3      cal4      cal5\n",
       "A  0.463644 -2.259173 -0.825330  0.227703  0.936149\n",
       "B -0.056193 -0.051107 -0.935115 -0.807525 -0.180707\n",
       "C       NaN       NaN       NaN       NaN       NaN\n",
       "D -1.084751 -1.632557  0.562906 -1.119908 -0.103443\n",
       "E -2.084308 -0.055141  0.547448 -0.149421 -0.715821\n",
       "F  1.474124  0.223796 -1.465784  1.031706  1.157569"
      ]
     },
     "execution_count": 21,
     "metadata": {},
     "output_type": "execute_result"
    }
   ],
   "source": [
    "dframe2 = dframe.reindex(['A','B','C','D','E','F'])\n",
    "dframe2"
   ]
  },
  {
   "cell_type": "code",
   "execution_count": 22,
   "metadata": {
    "collapsed": false
   },
   "outputs": [
    {
     "data": {
      "text/html": [
       "<div style=\"max-height:1000px;max-width:1500px;overflow:auto;\">\n",
       "<table border=\"1\" class=\"dataframe\">\n",
       "  <thead>\n",
       "    <tr style=\"text-align: right;\">\n",
       "      <th></th>\n",
       "      <th>cal1</th>\n",
       "      <th>cal2</th>\n",
       "      <th>cal3</th>\n",
       "      <th>cal4</th>\n",
       "      <th>cal5</th>\n",
       "      <th>cal6</th>\n",
       "    </tr>\n",
       "  </thead>\n",
       "  <tbody>\n",
       "    <tr>\n",
       "      <th>A</th>\n",
       "      <td> 0.463644</td>\n",
       "      <td>-2.259173</td>\n",
       "      <td>-0.825330</td>\n",
       "      <td> 0.227703</td>\n",
       "      <td> 0.936149</td>\n",
       "      <td>NaN</td>\n",
       "    </tr>\n",
       "    <tr>\n",
       "      <th>B</th>\n",
       "      <td>-0.056193</td>\n",
       "      <td>-0.051107</td>\n",
       "      <td>-0.935115</td>\n",
       "      <td>-0.807525</td>\n",
       "      <td>-0.180707</td>\n",
       "      <td>NaN</td>\n",
       "    </tr>\n",
       "    <tr>\n",
       "      <th>C</th>\n",
       "      <td>      NaN</td>\n",
       "      <td>      NaN</td>\n",
       "      <td>      NaN</td>\n",
       "      <td>      NaN</td>\n",
       "      <td>      NaN</td>\n",
       "      <td>NaN</td>\n",
       "    </tr>\n",
       "    <tr>\n",
       "      <th>D</th>\n",
       "      <td>-1.084751</td>\n",
       "      <td>-1.632557</td>\n",
       "      <td> 0.562906</td>\n",
       "      <td>-1.119908</td>\n",
       "      <td>-0.103443</td>\n",
       "      <td>NaN</td>\n",
       "    </tr>\n",
       "    <tr>\n",
       "      <th>E</th>\n",
       "      <td>-2.084308</td>\n",
       "      <td>-0.055141</td>\n",
       "      <td> 0.547448</td>\n",
       "      <td>-0.149421</td>\n",
       "      <td>-0.715821</td>\n",
       "      <td>NaN</td>\n",
       "    </tr>\n",
       "    <tr>\n",
       "      <th>F</th>\n",
       "      <td> 1.474124</td>\n",
       "      <td> 0.223796</td>\n",
       "      <td>-1.465784</td>\n",
       "      <td> 1.031706</td>\n",
       "      <td> 1.157569</td>\n",
       "      <td>NaN</td>\n",
       "    </tr>\n",
       "  </tbody>\n",
       "</table>\n",
       "</div>"
      ],
      "text/plain": [
       "       cal1      cal2      cal3      cal4      cal5  cal6\n",
       "A  0.463644 -2.259173 -0.825330  0.227703  0.936149   NaN\n",
       "B -0.056193 -0.051107 -0.935115 -0.807525 -0.180707   NaN\n",
       "C       NaN       NaN       NaN       NaN       NaN   NaN\n",
       "D -1.084751 -1.632557  0.562906 -1.119908 -0.103443   NaN\n",
       "E -2.084308 -0.055141  0.547448 -0.149421 -0.715821   NaN\n",
       "F  1.474124  0.223796 -1.465784  1.031706  1.157569   NaN"
      ]
     },
     "execution_count": 22,
     "metadata": {},
     "output_type": "execute_result"
    }
   ],
   "source": [
    "new_col = ['cal1','cal2','cal3','cal4','cal5','cal6']\n",
    "dframe2.reindex(columns=new_col)"
   ]
  },
  {
   "cell_type": "code",
   "execution_count": 23,
   "metadata": {
    "collapsed": false
   },
   "outputs": [
    {
     "data": {
      "text/html": [
       "<div style=\"max-height:1000px;max-width:1500px;overflow:auto;\">\n",
       "<table border=\"1\" class=\"dataframe\">\n",
       "  <thead>\n",
       "    <tr style=\"text-align: right;\">\n",
       "      <th></th>\n",
       "      <th>cal1</th>\n",
       "      <th>cal2</th>\n",
       "      <th>cal3</th>\n",
       "      <th>cal4</th>\n",
       "      <th>cal5</th>\n",
       "    </tr>\n",
       "  </thead>\n",
       "  <tbody>\n",
       "    <tr>\n",
       "      <th>A</th>\n",
       "      <td> 0.463644</td>\n",
       "      <td>-2.259173</td>\n",
       "      <td>-0.825330</td>\n",
       "      <td> 0.227703</td>\n",
       "      <td> 0.936149</td>\n",
       "    </tr>\n",
       "    <tr>\n",
       "      <th>B</th>\n",
       "      <td>-0.056193</td>\n",
       "      <td>-0.051107</td>\n",
       "      <td>-0.935115</td>\n",
       "      <td>-0.807525</td>\n",
       "      <td>-0.180707</td>\n",
       "    </tr>\n",
       "    <tr>\n",
       "      <th>D</th>\n",
       "      <td>-1.084751</td>\n",
       "      <td>-1.632557</td>\n",
       "      <td> 0.562906</td>\n",
       "      <td>-1.119908</td>\n",
       "      <td>-0.103443</td>\n",
       "    </tr>\n",
       "    <tr>\n",
       "      <th>E</th>\n",
       "      <td>-2.084308</td>\n",
       "      <td>-0.055141</td>\n",
       "      <td> 0.547448</td>\n",
       "      <td>-0.149421</td>\n",
       "      <td>-0.715821</td>\n",
       "    </tr>\n",
       "    <tr>\n",
       "      <th>F</th>\n",
       "      <td> 1.474124</td>\n",
       "      <td> 0.223796</td>\n",
       "      <td>-1.465784</td>\n",
       "      <td> 1.031706</td>\n",
       "      <td> 1.157569</td>\n",
       "    </tr>\n",
       "  </tbody>\n",
       "</table>\n",
       "</div>"
      ],
      "text/plain": [
       "       cal1      cal2      cal3      cal4      cal5\n",
       "A  0.463644 -2.259173 -0.825330  0.227703  0.936149\n",
       "B -0.056193 -0.051107 -0.935115 -0.807525 -0.180707\n",
       "D -1.084751 -1.632557  0.562906 -1.119908 -0.103443\n",
       "E -2.084308 -0.055141  0.547448 -0.149421 -0.715821\n",
       "F  1.474124  0.223796 -1.465784  1.031706  1.157569"
      ]
     },
     "execution_count": 23,
     "metadata": {},
     "output_type": "execute_result"
    }
   ],
   "source": [
    "dframe"
   ]
  },
  {
   "cell_type": "code",
   "execution_count": 25,
   "metadata": {
    "collapsed": false
   },
   "outputs": [
    {
     "data": {
      "text/html": [
       "<div style=\"max-height:1000px;max-width:1500px;overflow:auto;\">\n",
       "<table border=\"1\" class=\"dataframe\">\n",
       "  <thead>\n",
       "    <tr style=\"text-align: right;\">\n",
       "      <th></th>\n",
       "      <th>cal1</th>\n",
       "      <th>cal2</th>\n",
       "      <th>cal3</th>\n",
       "      <th>cal4</th>\n",
       "      <th>cal5</th>\n",
       "      <th>cal6</th>\n",
       "    </tr>\n",
       "  </thead>\n",
       "  <tbody>\n",
       "    <tr>\n",
       "      <th>A</th>\n",
       "      <td> 0.463644</td>\n",
       "      <td>-2.259173</td>\n",
       "      <td>-0.825330</td>\n",
       "      <td> 0.227703</td>\n",
       "      <td> 0.936149</td>\n",
       "      <td>NaN</td>\n",
       "    </tr>\n",
       "    <tr>\n",
       "      <th>B</th>\n",
       "      <td>-0.056193</td>\n",
       "      <td>-0.051107</td>\n",
       "      <td>-0.935115</td>\n",
       "      <td>-0.807525</td>\n",
       "      <td>-0.180707</td>\n",
       "      <td>NaN</td>\n",
       "    </tr>\n",
       "    <tr>\n",
       "      <th>C</th>\n",
       "      <td>      NaN</td>\n",
       "      <td>      NaN</td>\n",
       "      <td>      NaN</td>\n",
       "      <td>      NaN</td>\n",
       "      <td>      NaN</td>\n",
       "      <td>NaN</td>\n",
       "    </tr>\n",
       "    <tr>\n",
       "      <th>D</th>\n",
       "      <td>-1.084751</td>\n",
       "      <td>-1.632557</td>\n",
       "      <td> 0.562906</td>\n",
       "      <td>-1.119908</td>\n",
       "      <td>-0.103443</td>\n",
       "      <td>NaN</td>\n",
       "    </tr>\n",
       "    <tr>\n",
       "      <th>E</th>\n",
       "      <td>-2.084308</td>\n",
       "      <td>-0.055141</td>\n",
       "      <td> 0.547448</td>\n",
       "      <td>-0.149421</td>\n",
       "      <td>-0.715821</td>\n",
       "      <td>NaN</td>\n",
       "    </tr>\n",
       "    <tr>\n",
       "      <th>F</th>\n",
       "      <td> 1.474124</td>\n",
       "      <td> 0.223796</td>\n",
       "      <td>-1.465784</td>\n",
       "      <td> 1.031706</td>\n",
       "      <td> 1.157569</td>\n",
       "      <td>NaN</td>\n",
       "    </tr>\n",
       "  </tbody>\n",
       "</table>\n",
       "</div>"
      ],
      "text/plain": [
       "       cal1      cal2      cal3      cal4      cal5  cal6\n",
       "A  0.463644 -2.259173 -0.825330  0.227703  0.936149   NaN\n",
       "B -0.056193 -0.051107 -0.935115 -0.807525 -0.180707   NaN\n",
       "C       NaN       NaN       NaN       NaN       NaN   NaN\n",
       "D -1.084751 -1.632557  0.562906 -1.119908 -0.103443   NaN\n",
       "E -2.084308 -0.055141  0.547448 -0.149421 -0.715821   NaN\n",
       "F  1.474124  0.223796 -1.465784  1.031706  1.157569   NaN"
      ]
     },
     "execution_count": 25,
     "metadata": {},
     "output_type": "execute_result"
    }
   ],
   "source": [
    "dframe.ix[['A','B','C','D','E','F'],new_col]"
   ]
  },
  {
   "cell_type": "code",
   "execution_count": null,
   "metadata": {
    "collapsed": true
   },
   "outputs": [],
   "source": []
  }
 ],
 "metadata": {
  "kernelspec": {
   "display_name": "Python 2",
   "language": "python",
   "name": "python2"
  },
  "language_info": {
   "codemirror_mode": {
    "name": "ipython",
    "version": 2
   },
   "file_extension": ".py",
   "mimetype": "text/x-python",
   "name": "python",
   "nbconvert_exporter": "python",
   "pygments_lexer": "ipython2",
   "version": "2.7.9"
  }
 },
 "nbformat": 4,
 "nbformat_minor": 0
}
